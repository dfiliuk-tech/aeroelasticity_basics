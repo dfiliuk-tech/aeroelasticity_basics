{
 "cells": [
  {
   "cell_type": "code",
   "id": "initial_id",
   "metadata": {
    "collapsed": true,
    "ExecuteTime": {
     "end_time": "2024-12-29T17:14:56.637208Z",
     "start_time": "2024-12-29T17:14:56.633567Z"
    }
   },
   "source": "import numpy as np\n",
   "outputs": [],
   "execution_count": 23
  },
  {
   "metadata": {
    "ExecuteTime": {
     "end_time": "2024-12-29T17:14:56.656104Z",
     "start_time": "2024-12-29T17:14:56.652745Z"
    }
   },
   "cell_type": "code",
   "source": [
    "lkr_2_group1 = 360  # mm\n",
    "b_group1 = 225  # mm\n",
    "lkr_2 = lkr_2_group1 / 1000  # m\n",
    "b = b_group1 / 1000  # m\n"
   ],
   "id": "fbbc0deafccb25b3",
   "outputs": [],
   "execution_count": 24
  },
  {
   "metadata": {
    "ExecuteTime": {
     "end_time": "2024-12-29T17:14:56.667351Z",
     "start_time": "2024-12-29T17:14:56.663937Z"
    }
   },
   "cell_type": "code",
   "source": "EI_data = np.array([35000, 32000, 25000, 20000, 15000, 10000, 7000, 4000, 2000])\n",
   "id": "18a18efc34598fe6",
   "outputs": [],
   "execution_count": 25
  },
  {
   "metadata": {
    "ExecuteTime": {
     "end_time": "2024-12-29T17:14:56.679895Z",
     "start_time": "2024-12-29T17:14:56.676597Z"
    }
   },
   "cell_type": "code",
   "source": [
    "\n",
    "GJd_data = np.array([\n",
    "    1050,  # y=0\n",
    "    975,   # y=0.125\n",
    "    525,   # y=0.25\n",
    "    450,   # y=0.375\n",
    "    250,   # y=0.5\n",
    "    125,   # y=0.625\n",
    "    100,   # y=0.75\n",
    "    50,    # y=0.875\n",
    "    25     # y=1.0\n",
    "])  # [N*m^2]\n"
   ],
   "id": "5265531cba621cb5",
   "outputs": [],
   "execution_count": 26
  },
  {
   "metadata": {
    "ExecuteTime": {
     "end_time": "2024-12-29T17:14:56.702523Z",
     "start_time": "2024-12-29T17:14:56.698450Z"
    }
   },
   "cell_type": "code",
   "source": "y_points = np.array([0, 0.125, 0.25, 0.375, 0.5, 0.625, 0.75, 0.875, 1.0])*lkr_2\n",
   "id": "e6571d99ae3deeac",
   "outputs": [],
   "execution_count": 27
  },
  {
   "metadata": {
    "ExecuteTime": {
     "end_time": "2024-12-29T17:14:56.712769Z",
     "start_time": "2024-12-29T17:14:56.709167Z"
    }
   },
   "cell_type": "code",
   "source": [
    "#   # Table 1, variant 2 data\n",
    "e = np.array([\n",
    "    0.007,\n",
    "    0.008,\n",
    "    0.01,\n",
    "    0.012,\n",
    "    0.011,\n",
    "    0.01,\n",
    "    0.0105,\n",
    "    0.0115,\n",
    "    0.015\n",
    "])\n"
   ],
   "id": "98f7a707f5c825f3",
   "outputs": [],
   "execution_count": 28
  },
  {
   "metadata": {
    "ExecuteTime": {
     "end_time": "2024-12-29T17:14:56.726963Z",
     "start_time": "2024-12-29T17:14:56.723020Z"
    }
   },
   "cell_type": "code",
   "source": [
    "\n",
    "def create_weight_matrix(lkr_2):\n",
    "    # Create diagonal weight matrix using Simpson's rule\n",
    "    w = np.array([1, 4, 2, 4, 2, 4, 2, 4, 1], dtype=np.float64)\n",
    "    W = np.diag(0.125 * lkr_2 / 3 * w)\n",
    "\n",
    "    return W\n",
    "\n",
    "W = create_weight_matrix(lkr_2)\n"
   ],
   "id": "bd9860c69f7a0664",
   "outputs": [],
   "execution_count": 29
  },
  {
   "metadata": {
    "ExecuteTime": {
     "end_time": "2024-12-29T17:14:56.800691Z",
     "start_time": "2024-12-29T17:14:56.745087Z"
    }
   },
   "cell_type": "code",
   "source": [
    "from scipy.interpolate import Akima1DInterpolator\n",
    "from scipy.integrate import quad\n",
    "\n",
    "def calculate_influence_matrix_C_z():\n",
    "\n",
    "    n = len(y_points)\n",
    "    x = np.array(y_points)\n",
    "    y_vals = np.array(list(EI_data))\n",
    "    interpolated_fn = Akima1DInterpolator(x, y_vals)\n",
    "\n",
    "    def EI(y):\n",
    "      return interpolated_fn(y)\n",
    "\n",
    "    def integrand1(y):\n",
    "        return 1/EI(y)\n",
    "\n",
    "    def integrand2(y, lambda_val):\n",
    "        return lambda_val/EI(y)\n",
    "\n",
    "    def integrand3(y, lambda_val):\n",
    "        return lambda_val*lambda_val/EI(y)\n",
    "\n",
    "    C_z = np.zeros((n, n))\n",
    "\n",
    "    for i in range(n):\n",
    "        for j in range(n):\n",
    "            if i == 0 or j == 0:\n",
    "                continue\n",
    "\n",
    "            yi = y_points[i]\n",
    "            yj = y_points[j]\n",
    "\n",
    "            y=min(yi, yj)\n",
    "\n",
    "            # Calculate three integrals\n",
    "            int1, _ = quad(integrand1, 0, y)\n",
    "            int2, _ = quad(lambda l: integrand2(l, l), 0, y)\n",
    "            int3, _ = quad(lambda l: integrand3(l, l), 0, y)\n",
    "\n",
    "\n",
    "            # Apply formula\n",
    "            C_z[i,j] = yi*yj*int1 - (yi+yj)*int2 + int3\n",
    "\n",
    "    return C_z\n",
    "\n",
    "calculate_influence_matrix_C_z()"
   ],
   "id": "f10e661d78891e64",
   "outputs": [
    {
     "data": {
      "text/plain": [
       "array([[0.00000000e+00, 0.00000000e+00, 0.00000000e+00, 0.00000000e+00,\n",
       "        0.00000000e+00, 0.00000000e+00, 0.00000000e+00, 0.00000000e+00,\n",
       "        0.00000000e+00],\n",
       "       [0.00000000e+00, 8.78452597e-10, 2.20420647e-09, 3.52996034e-09,\n",
       "        4.85571421e-09, 6.18146807e-09, 7.50722194e-09, 8.83297581e-09,\n",
       "        1.01587297e-08],\n",
       "       [0.00000000e+00, 2.20420647e-09, 7.22603151e-09, 1.27838586e-08,\n",
       "        1.83416858e-08, 2.38995129e-08, 2.94573400e-08, 3.50151672e-08,\n",
       "        4.05729943e-08],\n",
       "       [0.00000000e+00, 3.52996034e-09, 1.27838586e-08, 2.55341753e-08,\n",
       "        3.89618224e-08, 5.23894694e-08, 6.58171164e-08, 7.92447634e-08,\n",
       "        9.26724105e-08],\n",
       "       [0.00000000e+00, 4.85571421e-09, 1.83416858e-08, 3.89618224e-08,\n",
       "        6.39934785e-08, 8.98961818e-08, 1.15798885e-07, 1.41701588e-07,\n",
       "        1.67604292e-07],\n",
       "       [0.00000000e+00, 6.18146807e-09, 2.38995129e-08, 5.23894694e-08,\n",
       "        8.98961818e-08, 1.33258976e-07, 1.77850399e-07, 2.22441821e-07,\n",
       "        2.67033243e-07],\n",
       "       [0.00000000e+00, 7.50722194e-09, 2.94573400e-08, 6.58171164e-08,\n",
       "        1.15798885e-07, 1.77850399e-07, 2.48429224e-07, 3.20837853e-07,\n",
       "        3.93246482e-07],\n",
       "       [0.00000000e+00, 8.83297581e-09, 3.50151672e-08, 7.92447634e-08,\n",
       "        1.41701588e-07, 2.22441821e-07, 3.20837853e-07, 4.31772416e-07,\n",
       "        5.45495758e-07],\n",
       "       [0.00000000e+00, 1.01587297e-08, 4.05729943e-08, 9.26724105e-08,\n",
       "        1.67604292e-07, 2.67033243e-07, 3.93246482e-07, 5.45495758e-07,\n",
       "        7.18965319e-07]])"
      ]
     },
     "execution_count": 30,
     "metadata": {},
     "output_type": "execute_result"
    }
   ],
   "execution_count": 30
  },
  {
   "metadata": {
    "ExecuteTime": {
     "end_time": "2024-12-29T17:14:56.935273Z",
     "start_time": "2024-12-29T17:14:56.843293Z"
    }
   },
   "cell_type": "code",
   "source": [
    "def calculate_influence_matrix_C_theta():\n",
    "    n = len(y_points)\n",
    "    x = np.array(y_points)\n",
    "    y_vals = np.array(list(GJd_data))\n",
    "    interpolated_fn = Akima1DInterpolator(x, y_vals)\n",
    "\n",
    "    def GJd(y):\n",
    "        return interpolated_fn(y)\n",
    "\n",
    "    def integrand(y):\n",
    "        return 1/GJd(y)\n",
    "\n",
    "    C_theta = np.zeros((n, n))\n",
    "\n",
    "    for i in range(n):\n",
    "        for j in range(n):\n",
    "            if i == 0 or j == 0:\n",
    "                continue\n",
    "\n",
    "            yi = y_points[i]\n",
    "            yj = y_points[j]\n",
    "            y = min(yi, yj)\n",
    "\n",
    "            # Calculate integral for torsional influence\n",
    "            integral, _ = quad(integrand, 0, y)\n",
    "            C_theta[i,j] = lkr_2 * integral\n",
    "\n",
    "    return C_theta\n",
    "\n",
    "C_theta = calculate_influence_matrix_C_theta()\n",
    "C_theta"
   ],
   "id": "a33356e0cc72fa2a",
   "outputs": [
    {
     "data": {
      "text/plain": [
       "array([[0.00000000e+00, 0.00000000e+00, 0.00000000e+00, 0.00000000e+00,\n",
       "        0.00000000e+00, 0.00000000e+00, 0.00000000e+00, 0.00000000e+00,\n",
       "        0.00000000e+00],\n",
       "       [0.00000000e+00, 1.55307012e-05, 1.55307012e-05, 1.55307012e-05,\n",
       "        1.55307012e-05, 1.55307012e-05, 1.55307012e-05, 1.55307012e-05,\n",
       "        1.55307012e-05],\n",
       "       [0.00000000e+00, 1.55307012e-05, 3.82202298e-05, 3.82202298e-05,\n",
       "        3.82202298e-05, 3.82202298e-05, 3.82202298e-05, 3.82202298e-05,\n",
       "        3.82202298e-05],\n",
       "       [0.00000000e+00, 1.55307012e-05, 3.82202298e-05, 7.14294468e-05,\n",
       "        7.14294468e-05, 7.14294468e-05, 7.14294468e-05, 7.14294468e-05,\n",
       "        7.14294468e-05],\n",
       "       [0.00000000e+00, 1.55307012e-05, 3.82202298e-05, 7.14294468e-05,\n",
       "        1.19371051e-04, 1.19371051e-04, 1.19371051e-04, 1.19371051e-04,\n",
       "        1.19371051e-04],\n",
       "       [0.00000000e+00, 1.55307012e-05, 3.82202298e-05, 7.14294468e-05,\n",
       "        1.19371051e-04, 2.14224688e-04, 2.14224688e-04, 2.14224688e-04,\n",
       "        2.14224688e-04],\n",
       "       [0.00000000e+00, 1.55307012e-05, 3.82202298e-05, 7.14294468e-05,\n",
       "        1.19371051e-04, 2.14224688e-04, 3.59172076e-04, 3.59172076e-04,\n",
       "        3.59172076e-04],\n",
       "       [0.00000000e+00, 1.55307012e-05, 3.82202298e-05, 7.14294468e-05,\n",
       "        1.19371051e-04, 2.14224688e-04, 3.59172076e-04, 5.86353059e-04,\n",
       "        5.86353059e-04],\n",
       "       [0.00000000e+00, 1.55307012e-05, 3.82202298e-05, 7.14294468e-05,\n",
       "        1.19371051e-04, 2.14224688e-04, 3.59172076e-04, 5.86353059e-04,\n",
       "        1.06316037e-03]])"
      ]
     },
     "execution_count": 31,
     "metadata": {},
     "output_type": "execute_result"
    }
   ],
   "execution_count": 31
  },
  {
   "metadata": {
    "ExecuteTime": {
     "end_time": "2024-12-29T17:14:57.024883Z",
     "start_time": "2024-12-29T17:14:57.016860Z"
    }
   },
   "cell_type": "code",
   "source": [
    "def calculate_characteristic_matrix(C_theta, e, W):\n",
    "    \"\"\"\n",
    "    Calculate [B] = [Cθ]⋅diag[e]⋅diag[W]\n",
    "    \"\"\"\n",
    "    # Form diagonal matrices\n",
    "    E = np.diag(e)\n",
    "\n",
    "    # Calculate B matrix\n",
    "    B = C_theta @ E @ W\n",
    "\n",
    "    return B\n",
    "\n",
    "def solve_eigenvalue_problem(B):\n",
    "    \"\"\"\n",
    "    Solve eigenvalue problem ([B] - λ[E]){θ} = 0\n",
    "    \"\"\"\n",
    "    # [E] is identity matrix\n",
    "    eigenvalues = np.linalg.eigvals(B)\n",
    "\n",
    "    # Get the largest positive real eigenvalue\n",
    "    positive_eigenvals = eigenvalues[np.real(eigenvalues) > 0]\n",
    "    lambda_cr = np.max(np.real(positive_eigenvals))\n",
    "\n",
    "    return lambda_cr\n",
    "\n",
    "# Using your e data\n",
    "e = np.array([\n",
    "    0.007, 0.008, 0.01, 0.012, 0.011,\n",
    "    0.01, 0.0105, 0.0115, 0.015\n",
    "])\n",
    "\n",
    "# Calculate B matrix\n",
    "B = calculate_characteristic_matrix(C_theta, e, W)\n",
    "\n",
    "# Solve eigenvalue problem\n",
    "lambda_cr = solve_eigenvalue_problem(B)\n",
    "\n",
    "# print(\"\\nCharacteristic Matrix B:\")\n",
    "# print(B)\n",
    "print(\"\\nCritical eigenvalue λ_cr:\", lambda_cr)\n",
    "\n",
    "B"
   ],
   "id": "eeb7cea2161b2331",
   "outputs": [
    {
     "name": "stdout",
     "output_type": "stream",
     "text": [
      "\n",
      "Critical eigenvalue λ_cr: 7.184635629230544e-07\n"
     ]
    },
    {
     "data": {
      "text/plain": [
       "array([[0.00000000e+00, 0.00000000e+00, 0.00000000e+00, 0.00000000e+00,\n",
       "        0.00000000e+00, 0.00000000e+00, 0.00000000e+00, 0.00000000e+00,\n",
       "        0.00000000e+00],\n",
       "       [0.00000000e+00, 7.45473659e-09, 4.65921037e-09, 1.11821049e-08,\n",
       "        5.12513140e-09, 9.31842074e-09, 4.89217089e-09, 1.07161838e-08,\n",
       "        3.49440778e-09],\n",
       "       [0.00000000e+00, 7.45473659e-09, 1.14660690e-08, 2.75185655e-08,\n",
       "        1.26126759e-08, 2.29321379e-08, 1.20393724e-08, 2.63719586e-08,\n",
       "        8.59955172e-09],\n",
       "       [0.00000000e+00, 7.45473659e-09, 1.14660690e-08, 5.14292017e-08,\n",
       "        2.35717174e-08, 4.28576681e-08, 2.25002757e-08, 4.92863183e-08,\n",
       "        1.60716255e-08],\n",
       "       [0.00000000e+00, 7.45473659e-09, 1.14660690e-08, 5.14292017e-08,\n",
       "        3.93924468e-08, 7.16226306e-08, 3.76018811e-08, 8.23660252e-08,\n",
       "        2.68584865e-08],\n",
       "       [0.00000000e+00, 7.45473659e-09, 1.14660690e-08, 5.14292017e-08,\n",
       "        3.93924468e-08, 1.28534813e-07, 6.74807768e-08, 1.47815035e-07,\n",
       "        4.82005549e-08],\n",
       "       [0.00000000e+00, 7.45473659e-09, 1.14660690e-08, 5.14292017e-08,\n",
       "        3.93924468e-08, 1.28534813e-07, 1.13139204e-07, 2.47828733e-07,\n",
       "        8.08137172e-08],\n",
       "       [0.00000000e+00, 7.45473659e-09, 1.14660690e-08, 5.14292017e-08,\n",
       "        3.93924468e-08, 1.28534813e-07, 1.13139204e-07, 4.04583611e-07,\n",
       "        1.31929438e-07],\n",
       "       [0.00000000e+00, 7.45473659e-09, 1.14660690e-08, 5.14292017e-08,\n",
       "        3.93924468e-08, 1.28534813e-07, 1.13139204e-07, 4.04583611e-07,\n",
       "        2.39211083e-07]])"
      ]
     },
     "execution_count": 32,
     "metadata": {},
     "output_type": "execute_result"
    }
   ],
   "execution_count": 32
  },
  {
   "metadata": {
    "ExecuteTime": {
     "end_time": "2024-12-29T17:14:57.250073Z",
     "start_time": "2024-12-29T17:14:57.123360Z"
    }
   },
   "cell_type": "code",
   "source": [
    "def calculate_divergence_speed(lambda_cr, lkr_2):\n",
    "    \"\"\"\n",
    "    Calculate divergence speed using:\n",
    "    q_div = 1 / (λ * l * c_alpha)\n",
    "    V_div = sqrt(2q_div / ρ)\n",
    "    \"\"\"\n",
    "    # Calculate lift coefficient derivative using Diederich formula\n",
    "    AR = lkr_2*2/b  # aspect ratio\n",
    "    c_alpha_inf = 2 * np.pi\n",
    "    c_alpha = c_alpha_inf * AR / (AR + 4)\n",
    "\n",
    "    # Calculate critical dynamic pressure\n",
    "    q_div = 1 / (lambda_cr * lkr_2*2 * c_alpha)\n",
    "\n",
    "    # Calculate speeds for different altitudes\n",
    "    rho = np.array([1.429, 1.225, 1.007, 0.819, 0.660])  # densities from -2 to 6 km\n",
    "    h_range = np.arange(-2, 7, 2)  # heights in km\n",
    "\n",
    "    V_div = np.sqrt(2 * q_div / rho)\n",
    "\n",
    "    print(\"\\nDivergence Analysis Results:\")\n",
    "    print(f\"Critical dynamic pressure q_div: {q_div:.2e} N/m²\")\n",
    "    print(f\"Lift curve slope c_α: {c_alpha:.3f}\")\n",
    "    print(\"\\nDivergence speeds:\")\n",
    "    for h, v in zip(h_range, V_div):\n",
    "        print(f\"H = {h:2.0f} km: {v:.1f} km/h\")\n",
    "\n",
    "    return q_div, V_div\n",
    "\n",
    "# Calculate divergence speed\n",
    "q_div, V_div = calculate_divergence_speed(lambda_cr, lkr_2)\n",
    "\n",
    "# Optional: plot results\n",
    "import matplotlib.pyplot as plt\n",
    "\n",
    "plt.figure(figsize=(10, 6))\n",
    "h_range = np.arange(-2, 7, 2)\n",
    "plt.plot(V_div, h_range, 'bo-', linewidth=2)\n",
    "plt.grid(True)\n",
    "plt.xlabel('Divergence Speed [km/h]')\n",
    "plt.ylabel('Altitude [km]')\n",
    "plt.title('Critical Divergence Speed vs Altitude')\n",
    "plt.show()"
   ],
   "id": "e2c57ea9dd9b5598",
   "outputs": [
    {
     "name": "stdout",
     "output_type": "stream",
     "text": [
      "\n",
      "Divergence Analysis Results:\n",
      "Critical dynamic pressure q_div: 6.92e+05 N/m²\n",
      "Lift curve slope c_α: 2.793\n",
      "\n",
      "Divergence speeds:\n",
      "H = -2 km: 984.3 km/h\n",
      "H =  0 km: 1063.1 km/h\n",
      "H =  2 km: 1172.6 km/h\n",
      "H =  4 km: 1300.2 km/h\n",
      "H =  6 km: 1448.4 km/h\n"
     ]
    },
    {
     "data": {
      "text/plain": [
       "<Figure size 1000x600 with 1 Axes>"
      ],
      "image/png": "[encoded data removed]"
     },
     "metadata": {},
     "output_type": "display_data"
    }
   ],
   "execution_count": 33
  }
 ],
 "metadata": {
  "kernelspec": {
   "display_name": "Python 3",
   "language": "python",
   "name": "python3"
  },
  "language_info": {
   "codemirror_mode": {
    "name": "ipython",
    "version": 2
   },
   "file_extension": ".py",
   "mimetype": "text/x-python",
   "name": "python",
   "nbconvert_exporter": "python",
   "pygments_lexer": "ipython2",
   "version": "2.7.6"
  }
 },
 "nbformat": 4,
 "nbformat_minor": 5
}
